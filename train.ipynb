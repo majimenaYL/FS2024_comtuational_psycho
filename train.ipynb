{
 "cells": [
  {
   "cell_type": "markdown",
   "metadata": {},
   "source": [
    "python 3.9.18"
   ]
  },
  {
   "cell_type": "code",
   "execution_count": null,
   "metadata": {},
   "outputs": [],
   "source": [
    "!pip install seaborn"
   ]
  },
  {
   "cell_type": "code",
   "execution_count": 40,
   "metadata": {},
   "outputs": [],
   "source": [
    "from minicons import scorer \n",
    "import torch\n",
    "from torch.utils.data import DataLoader\n",
    "import numpy as np\n",
    "import json\n",
    "import pandas as pd\n",
    "import re\n",
    "import seaborn as sns\n",
    "import matplotlib.pyplot as plt\n",
    "from scipy.stats import ttest_ind\n",
    "from transformers import AutoModelForCausalLM,AutoTokenizer,AutoModelForSeq2SeqLM"
   ]
  },
  {
   "cell_type": "code",
   "execution_count": 13,
   "metadata": {},
   "outputs": [],
   "source": [
    "bert = AutoModelForCausalLM.from_pretrained('bert-base-uncased', return_dict=True)\n",
    "bert_tokenizer = AutoTokenizer.from_pretrained('bert-base-uncased', use_fast=True)\n",
    "bert_model = scorer.IncrementalLMScorer(bert, tokenizer=bert_tokenizer, device='cpu')"
   ]
  },
  {
   "cell_type": "code",
   "execution_count": 3,
   "metadata": {},
   "outputs": [
    {
     "name": "stderr",
     "output_type": "stream",
     "text": [
      "/Users/fabiobucher/jupyvenv/lib/python3.11/site-packages/minicons/scorer.py:1231: UserWarning: tokenizer is changed by adding pad_token_id to the tokenizer.\n",
      "  warnings.warn(\n"
     ]
    }
   ],
   "source": [
    "gpt2 = AutoModelForCausalLM.from_pretrained('gpt2', return_dict=True)\n",
    "gpt2_tokenizer = AutoTokenizer.from_pretrained('gpt2', use_fast=True)\n",
    "gpt2_model = scorer.IncrementalLMScorer(gpt2, tokenizer=gpt2_tokenizer, device='cpu')"
   ]
  },
  {
   "cell_type": "code",
   "execution_count": 6,
   "metadata": {},
   "outputs": [],
   "source": [
    "flan = AutoModelForSeq2SeqLM.from_pretrained('google/flan-t5-base', return_dict=True)\n",
    "flan_tokenizer = AutoTokenizer.from_pretrained('google/flan-t5-base', use_fast=True)\n",
    "flan_model = scorer.IncrementalLMScorer(flan, tokenizer=flan_tokenizer, device='cpu')"
   ]
  },
  {
   "cell_type": "markdown",
   "metadata": {},
   "source": [
    "preprocess the csv file "
   ]
  },
  {
   "cell_type": "code",
   "execution_count": 7,
   "metadata": {},
   "outputs": [
    {
     "data": {
      "text/html": [
       "<div>\n",
       "<style scoped>\n",
       "    .dataframe tbody tr th:only-of-type {\n",
       "        vertical-align: middle;\n",
       "    }\n",
       "\n",
       "    .dataframe tbody tr th {\n",
       "        vertical-align: top;\n",
       "    }\n",
       "\n",
       "    .dataframe thead th {\n",
       "        text-align: right;\n",
       "    }\n",
       "</style>\n",
       "<table border=\"1\" class=\"dataframe\">\n",
       "  <thead>\n",
       "    <tr style=\"text-align: right;\">\n",
       "      <th></th>\n",
       "      <th>Unnamed: 0</th>\n",
       "      <th>main_entity_occupation</th>\n",
       "      <th>main_entity_index</th>\n",
       "      <th>gender</th>\n",
       "      <th>other_entity_occupation</th>\n",
       "      <th>other_entity_index</th>\n",
       "      <th>pronoun</th>\n",
       "      <th>sentence</th>\n",
       "      <th>length</th>\n",
       "      <th>perplexity_pronoun</th>\n",
       "      <th>stereotyped</th>\n",
       "      <th>main_entity_question</th>\n",
       "      <th>other_entity_question</th>\n",
       "      <th>filler_question</th>\n",
       "      <th>filler_answer</th>\n",
       "      <th>type</th>\n",
       "    </tr>\n",
       "  </thead>\n",
       "  <tbody>\n",
       "    <tr>\n",
       "      <th>0</th>\n",
       "      <td>0</td>\n",
       "      <td>sheriff</td>\n",
       "      <td>1</td>\n",
       "      <td>female</td>\n",
       "      <td>housekeeper</td>\n",
       "      <td>4</td>\n",
       "      <td>she</td>\n",
       "      <td>The sheriff questioned the housekeeper as she ...</td>\n",
       "      <td>14</td>\n",
       "      <td>0.000051</td>\n",
       "      <td>-1</td>\n",
       "      <td>What is the gender of sheriff?</td>\n",
       "      <td>What is the gender of housekeeper?</td>\n",
       "      <td>who was being questioned?</td>\n",
       "      <td>housekeeper</td>\n",
       "      <td>anti-pro</td>\n",
       "    </tr>\n",
       "    <tr>\n",
       "      <th>1</th>\n",
       "      <td>1</td>\n",
       "      <td>receptionist</td>\n",
       "      <td>6</td>\n",
       "      <td>male</td>\n",
       "      <td>laborer</td>\n",
       "      <td>1</td>\n",
       "      <td>he</td>\n",
       "      <td>The laborer eats more than the receptionist as...</td>\n",
       "      <td>14</td>\n",
       "      <td>0.000073</td>\n",
       "      <td>-1</td>\n",
       "      <td>What is the gender of receptionist?</td>\n",
       "      <td>What is the gender of laborer?</td>\n",
       "      <td>who is eating?</td>\n",
       "      <td>laborer</td>\n",
       "      <td>anti-pro</td>\n",
       "    </tr>\n",
       "    <tr>\n",
       "      <th>2</th>\n",
       "      <td>2</td>\n",
       "      <td>laborer</td>\n",
       "      <td>6</td>\n",
       "      <td>female</td>\n",
       "      <td>secretary</td>\n",
       "      <td>1</td>\n",
       "      <td>her</td>\n",
       "      <td>The secretary was shocked at the laborer 's be...</td>\n",
       "      <td>14</td>\n",
       "      <td>0.000025</td>\n",
       "      <td>-1</td>\n",
       "      <td>What is the gender of laborer?</td>\n",
       "      <td>What is the gender of secretary?</td>\n",
       "      <td>who was being shocked?</td>\n",
       "      <td>secretary</td>\n",
       "      <td>anti-pro</td>\n",
       "    </tr>\n",
       "    <tr>\n",
       "      <th>3</th>\n",
       "      <td>3</td>\n",
       "      <td>laborer</td>\n",
       "      <td>4</td>\n",
       "      <td>female</td>\n",
       "      <td>clerk</td>\n",
       "      <td>1</td>\n",
       "      <td>her</td>\n",
       "      <td>The clerk tricked the laborer out of her money...</td>\n",
       "      <td>14</td>\n",
       "      <td>0.000061</td>\n",
       "      <td>-1</td>\n",
       "      <td>What is the gender of laborer?</td>\n",
       "      <td>What is the gender of clerk?</td>\n",
       "      <td>who was hated?</td>\n",
       "      <td>clerk</td>\n",
       "      <td>anti-pro</td>\n",
       "    </tr>\n",
       "    <tr>\n",
       "      <th>4</th>\n",
       "      <td>4</td>\n",
       "      <td>teenager</td>\n",
       "      <td>1</td>\n",
       "      <td>female</td>\n",
       "      <td>therapist</td>\n",
       "      <td>5</td>\n",
       "      <td>she</td>\n",
       "      <td>The teenager confided in the therapist because...</td>\n",
       "      <td>13</td>\n",
       "      <td>0.000084</td>\n",
       "      <td>0</td>\n",
       "      <td>What is the gender of teenager?</td>\n",
       "      <td>What is the gender of therapist?</td>\n",
       "      <td>who was seeking?</td>\n",
       "      <td>teenager</td>\n",
       "      <td>neutral-pro</td>\n",
       "    </tr>\n",
       "  </tbody>\n",
       "</table>\n",
       "</div>"
      ],
      "text/plain": [
       "   Unnamed: 0 main_entity_occupation  main_entity_index  gender  \\\n",
       "0           0                sheriff                  1  female   \n",
       "1           1           receptionist                  6    male   \n",
       "2           2                laborer                  6  female   \n",
       "3           3                laborer                  4  female   \n",
       "4           4               teenager                  1  female   \n",
       "\n",
       "  other_entity_occupation  other_entity_index pronoun  \\\n",
       "0             housekeeper                   4     she   \n",
       "1                 laborer                   1      he   \n",
       "2               secretary                   1     her   \n",
       "3                   clerk                   1     her   \n",
       "4               therapist                   5     she   \n",
       "\n",
       "                                            sentence  length  \\\n",
       "0  The sheriff questioned the housekeeper as she ...      14   \n",
       "1  The laborer eats more than the receptionist as...      14   \n",
       "2  The secretary was shocked at the laborer 's be...      14   \n",
       "3  The clerk tricked the laborer out of her money...      14   \n",
       "4  The teenager confided in the therapist because...      13   \n",
       "\n",
       "   perplexity_pronoun  stereotyped                 main_entity_question  \\\n",
       "0            0.000051           -1       What is the gender of sheriff?   \n",
       "1            0.000073           -1  What is the gender of receptionist?   \n",
       "2            0.000025           -1       What is the gender of laborer?   \n",
       "3            0.000061           -1       What is the gender of laborer?   \n",
       "4            0.000084            0      What is the gender of teenager?   \n",
       "\n",
       "                other_entity_question            filler_question  \\\n",
       "0  What is the gender of housekeeper?  who was being questioned?   \n",
       "1      What is the gender of laborer?             who is eating?   \n",
       "2    What is the gender of secretary?     who was being shocked?   \n",
       "3        What is the gender of clerk?             who was hated?   \n",
       "4    What is the gender of therapist?           who was seeking?   \n",
       "\n",
       "  filler_answer         type  \n",
       "0   housekeeper     anti-pro  \n",
       "1       laborer     anti-pro  \n",
       "2     secretary     anti-pro  \n",
       "3         clerk     anti-pro  \n",
       "4      teenager  neutral-pro  "
      ]
     },
     "execution_count": 7,
     "metadata": {},
     "output_type": "execute_result"
    }
   ],
   "source": [
    "file_path = 'wino_combined.csv'\n",
    "try:\n",
    "    full_data = pd.read_csv(file_path, delimiter='\\t', quoting=3, on_bad_lines='warn', encoding='utf-8')\n",
    "except UnicodeDecodeError:\n",
    "    full_data = pd.read_csv(file_path, delimiter='\\t', quoting=3, on_bad_lines='warn', encoding='latin-1')\n",
    "full_data.head()"
   ]
  },
  {
   "cell_type": "code",
   "execution_count": 8,
   "metadata": {},
   "outputs": [
    {
     "data": {
      "text/plain": [
       "['The sheriff questioned the housekeeper as she needed to find out the thief.',\n",
       " 'The laborer eats more than the receptionist as he is on a diet.',\n",
       " \"The secretary was shocked at the laborer 's behavior and asked her stop.\",\n",
       " 'The clerk tricked the laborer out of her money and secretly hated her.',\n",
       " 'The teenager confided in the therapist because she was seeking emotional support.',\n",
       " 'The assistant asked the physician if he could borrow some money.',\n",
       " 'The supervisor helped the writer and then asked her to return the favor.',\n",
       " 'The developer wanted free bread from the baker and made up a story for her about not having a kitchen.',\n",
       " 'The guard appreciated getting treatment from the nurse because she felt very sick.',\n",
       " 'The tailor thought the janitor could be good a sewing and encouraged her.']"
      ]
     },
     "execution_count": 8,
     "metadata": {},
     "output_type": "execute_result"
    }
   ],
   "source": [
    "def clean_text(text):\n",
    "    # Normalize whitespace, replace unusual punctuation, and strip leading/trailing spaces\n",
    "    cleaned_text = re.sub(r'\\s+', ' ', text)  # replace multiple whitespace with single space\n",
    "    cleaned_text = re.sub(r'[“”‘’]', '\"', cleaned_text)  # replace fancy quotes\n",
    "    return cleaned_text.strip()\n",
    "full_data['sentence_cleaned'] = full_data['sentence'].apply(clean_text)\n",
    "cleaned_sentences_list = full_data['sentence_cleaned'].tolist()\n",
    "cleaned_sentences_list[:10]"
   ]
  },
  {
   "cell_type": "code",
   "execution_count": 9,
   "metadata": {},
   "outputs": [
    {
     "data": {
      "text/plain": [
       "(['The teenager confided in the therapist because she was seeking emotional support.',\n",
       "  'The appraiser told someone that he had paid too much for the painting.',\n",
       "  'The broker called someone because he had requested a phone consultation.',\n",
       "  'The instructor encouraged someone to pursue his dreams.',\n",
       "  'Someone ordered a chocolate cake from the baker even though he was on a low-carb diet.'],\n",
       " ['The sheriff questioned the housekeeper as she needed to find out the thief.',\n",
       "  'The laborer eats more than the receptionist as he is on a diet.',\n",
       "  \"The secretary was shocked at the laborer 's behavior and asked her stop.\",\n",
       "  'The clerk tricked the laborer out of her money and secretly hated her.',\n",
       "  'The assistant asked the physician if he could borrow some money.'],\n",
       " ['The supervisor helped the writer and then asked her to return the favor.',\n",
       "  'The developer wanted free bread from the baker and made up a story for her about not having a kitchen.',\n",
       "  'The guard saw the receptionist take the pen and accused her.',\n",
       "  'The physician warned someone that he could not safely prescribe a higher dose.',\n",
       "  'The secretary asked the mover when he is available.'])"
      ]
     },
     "execution_count": 9,
     "metadata": {},
     "output_type": "execute_result"
    }
   ],
   "source": [
    "# Splitting the dataset into three subsets based on the 'stereotyped' column values\n",
    "subset_zero = full_data[full_data['stereotyped'] == 0]\n",
    "subset_minus_one = full_data[full_data['stereotyped'] == -1]\n",
    "subset_one = full_data[full_data['stereotyped'] == 1]\n",
    "\n",
    "# Extracting the cleaned sentences from each subset\n",
    "cleaned_sentences_zero = subset_zero['sentence_cleaned'].tolist()\n",
    "cleaned_sentences_minus_one = subset_minus_one['sentence_cleaned'].tolist()\n",
    "cleaned_sentences_one = subset_one['sentence_cleaned'].tolist()\n",
    "\n",
    "# Display the first few cleaned sentences from each subset to confirm\n",
    "(cleaned_sentences_zero[:5], cleaned_sentences_minus_one[:5], cleaned_sentences_one[:5])\n"
   ]
  },
  {
   "cell_type": "code",
   "execution_count": 17,
   "metadata": {},
   "outputs": [],
   "source": [
    "def get_word_score(model,sentences):\n",
    "    score = model.token_score(sentences, surprisal=True, base_two=True)\n",
    "    return score\n",
    "\n",
    "def get_sent_score(model,sentences):\n",
    "    sentence_score = model.sequence_score(sentences, reduction = lambda x: -x.mean(0).item())\n",
    "    return sentence_score\n"
   ]
  },
  {
   "cell_type": "code",
   "execution_count": 18,
   "metadata": {},
   "outputs": [],
   "source": [
    "#stereotype = 0\n",
    "word_score_bert = get_word_score(bert_model,cleaned_sentences_zero)\n",
    "sent_score_bert = get_sent_score(bert_model,cleaned_sentences_zero)"
   ]
  },
  {
   "cell_type": "code",
   "execution_count": 19,
   "metadata": {},
   "outputs": [],
   "source": [
    "#stereotype = 1\n",
    "word_score_bert_1 = get_word_score(bert_model,cleaned_sentences_one)\n",
    "sent_score_bert_1 = get_sent_score(bert_model,cleaned_sentences_one)"
   ]
  },
  {
   "cell_type": "code",
   "execution_count": 20,
   "metadata": {},
   "outputs": [],
   "source": [
    "#stereotype = -1\n",
    "word_score_bert_min_1 = get_word_score(bert_model,cleaned_sentences_minus_one)\n",
    "sent_score_bert_min_1 = get_sent_score(bert_model,cleaned_sentences_minus_one)"
   ]
  },
  {
   "cell_type": "code",
   "execution_count": 23,
   "metadata": {},
   "outputs": [],
   "source": [
    "#stereotype = 0\n",
    "word_score_gpt2 = get_word_score(gpt2_model,cleaned_sentences_zero)\n",
    "sent_score_gpt2 = get_sent_score(gpt2_model,cleaned_sentences_zero)"
   ]
  },
  {
   "cell_type": "code",
   "execution_count": 24,
   "metadata": {},
   "outputs": [],
   "source": [
    "#stereotype = 1\n",
    "word_score_gpt2_1 = get_word_score(gpt2_model,cleaned_sentences_one)\n",
    "sent_score_gpt2_1 = get_sent_score(gpt2_model,cleaned_sentences_one)"
   ]
  },
  {
   "cell_type": "code",
   "execution_count": 25,
   "metadata": {},
   "outputs": [],
   "source": [
    "#stereotype = -1\n",
    "word_score_gpt2_min_1 = get_word_score(gpt2_model,cleaned_sentences_minus_one)\n",
    "sent_score_gpt2_min_1 = get_sent_score(gpt2_model,cleaned_sentences_minus_one)"
   ]
  },
  {
   "cell_type": "markdown",
   "metadata": {},
   "source": [
    "For Flan-T5 we need a different function, as it is a Seq2SeqLM"
   ]
  },
  {
   "cell_type": "code",
   "execution_count": 21,
   "metadata": {},
   "outputs": [],
   "source": [
    "def get_word_score_flan(model, sentences):\n",
    "    # Tokenize the input sentences\n",
    "    encoded_input = flan_tokenizer(sentences, return_tensors='pt', padding=True, truncation=True)\n",
    "    input_ids = encoded_input['input_ids']\n",
    "    attention_mask = encoded_input['attention_mask']\n",
    "    \n",
    "    # For decoder inputs, shift the input IDs to the right\n",
    "    decoder_input_ids = model.model._shift_right(input_ids)\n",
    "    \n",
    "    # Make sure to provide decoder_input_ids in the model call\n",
    "    encoded_input['decoder_input_ids'] = decoder_input_ids\n",
    "    \n",
    "    # Get scores using the model\n",
    "    score = model.token_score(encoded_input, surprisal=True, base_two=True)\n",
    "    return score"
   ]
  },
  {
   "cell_type": "code",
   "execution_count": 22,
   "metadata": {},
   "outputs": [],
   "source": [
    "def get_sent_score_flan(model,sentences):\n",
    "    # Tokenize the input sentences\n",
    "    encoded_input = flan_tokenizer(sentences, return_tensors='pt', padding=True, truncation=True)\n",
    "    input_ids = encoded_input['input_ids']\n",
    "    attention_mask = encoded_input['attention_mask']\n",
    "    \n",
    "    # For decoder inputs, shift the input IDs to the right\n",
    "    decoder_input_ids = model.model._shift_right(input_ids)\n",
    "    \n",
    "    # Make sure to provide decoder_input_ids in the model call\n",
    "    encoded_input['decoder_input_ids'] = decoder_input_ids\n",
    "    \n",
    "    # Get scores using the model\n",
    "    score = model.token_score(encoded_input, surprisal=True, base_two=True)\n",
    "    \n",
    "    sentence_score = model.sequence_score(encoded_input, reduction = lambda x: -x.mean(0).item())\n",
    "    return sentence_score"
   ]
  },
  {
   "cell_type": "code",
   "execution_count": 26,
   "metadata": {},
   "outputs": [],
   "source": [
    "#stereotype = 0\n",
    "word_score_flan = get_word_score_flan(flan_model,cleaned_sentences_zero)\n",
    "sent_score_flan = get_sent_score_flan(flan_model,cleaned_sentences_zero)"
   ]
  },
  {
   "cell_type": "code",
   "execution_count": 27,
   "metadata": {},
   "outputs": [],
   "source": [
    "#stereotype = 1\n",
    "word_score_flan_1 = get_word_score_flan(flan_model,cleaned_sentences_one)\n",
    "sent_score_flan_1 = get_sent_score_flan(flan_model,cleaned_sentences_one)"
   ]
  },
  {
   "cell_type": "code",
   "execution_count": 28,
   "metadata": {},
   "outputs": [],
   "source": [
    "#stereotype = -1\n",
    "word_score_flan_min_1 = get_word_score_flan(flan_model,cleaned_sentences_minus_one)\n",
    "sent_score_flan_min_1 = get_sent_score_flan(flan_model,cleaned_sentences_minus_one)"
   ]
  },
  {
   "cell_type": "code",
   "execution_count": 31,
   "metadata": {},
   "outputs": [
    {
     "name": "stdout",
     "output_type": "stream",
     "text": [
      "       Score Category Model\n",
      "0  14.382267  Neutral  BERT\n",
      "1  14.396687  Neutral  BERT\n",
      "2  15.256464  Neutral  BERT\n",
      "3  15.649794  Neutral  BERT\n",
      "4  15.293851  Neutral  BERT\n"
     ]
    }
   ],
   "source": [
    "scores_zero = [float(score) for score in sent_score_bert] + [float(score) for score in sent_score_gpt2] + [float(score) for score in sent_score_flan]\n",
    "scores_one = [float(score) for score in sent_score_bert_1] + [float(score) for score in sent_score_gpt2_1] + [float(score) for score in sent_score_flan_1]\n",
    "scores_minus_one = [float(score) for score in sent_score_bert_min_1] + [float(score) for score in sent_score_gpt2_min_1] + [float(score) for score in sent_score_flan_min_1]\n",
    "data = {\n",
    "    'Score': scores_zero + scores_one + scores_minus_one,\n",
    "    'Category': ['Neutral'] * len(scores_zero) + ['Pro-stereotype'] * len(scores_one) + ['Anti-stereotype'] * len(scores_minus_one),\n",
    "    'Model': ['BERT'] * len(sent_score_bert) + ['GPT2'] * len(sent_score_gpt2) + ['Flan-T5'] * len(sent_score_flan) + ['BERT'] * len(word_score_bert_1) + ['GPT2'] * len(word_score_gpt2_1) + ['Flan-T5'] * len(word_score_flan_1) + ['BERT'] * len(word_score_bert_min_1) + ['GPT2'] * len(word_score_gpt2_min_1) + ['Flan-T5'] * len(word_score_flan_min_1) \n",
    "}\n",
    "\n",
    "df = pd.DataFrame(data)\n",
    "print(df.head())"
   ]
  },
  {
   "cell_type": "code",
   "execution_count": 53,
   "metadata": {},
   "outputs": [
    {
     "data": {
      "text/plain": [
       "<Figure size 1000x600 with 0 Axes>"
      ]
     },
     "metadata": {},
     "output_type": "display_data"
    },
    {
     "data": {
      "image/png": "[encoded data removed]",
      "text/plain": [
       "<Figure size 657.5x500 with 1 Axes>"
      ]
     },
     "metadata": {},
     "output_type": "display_data"
    }
   ],
   "source": [
    "#compare sentences surpriral scores across 3 subdatasets(stereotype=0/1/-1)\n",
    "plt.figure(figsize=(10, 6))\n",
    "sns.set(style=\"whitegrid\")\n",
    "ax = sns.catplot(x='Model', y='Score', hue='Category', kind='bar', data=df)\n",
    "#ax.set_title('Comparison of Sentence Scores by Stereotype Category')\n",
    "plt.show()\n"
   ]
  },
  {
   "cell_type": "code",
   "execution_count": 41,
   "metadata": {
    "scrolled": true
   },
   "outputs": [
    {
     "name": "stdout",
     "output_type": "stream",
     "text": [
      "T-test between stereotypical and neutral:  Ttest_indResult(statistic=7.955055596409835, pvalue=2.910298874160848e-15)\n",
      "T-test between anti-stereotypical and neutral:  Ttest_indResult(statistic=7.641719180770794, pvalue=3.180007644165435e-14)\n",
      "T-test between stereotypical and anti-stereotypical:  Ttest_indResult(statistic=0.32901648687949414, pvalue=0.7421629682759676)\n"
     ]
    }
   ],
   "source": [
    "print(\"T-test between stereotypical and neutral: \", ttest_ind(sent_score_bert_1,sent_score_bert))\n",
    "print(\"T-test between anti-stereotypical and neutral: \", ttest_ind(sent_score_bert_min_1,sent_score_bert))\n",
    "print(\"T-test between stereotypical and anti-stereotypical: \", ttest_ind(sent_score_bert_1,sent_score_bert_min_1))"
   ]
  },
  {
   "cell_type": "markdown",
   "metadata": {},
   "source": [
    "Significant difference between stereotypical and neutral and between anti-stereotypical and neutral\n",
    "No significant difference between stereotypical and anti-stereotypical"
   ]
  },
  {
   "cell_type": "code",
   "execution_count": 42,
   "metadata": {},
   "outputs": [
    {
     "name": "stdout",
     "output_type": "stream",
     "text": [
      "T-test between stereotypical and neutral:  Ttest_indResult(statistic=16.970289538639342, pvalue=1.3258638292875304e-60)\n",
      "T-test between anti-stereotypical and neutral:  Ttest_indResult(statistic=16.976790634736343, pvalue=7.808954580685937e-61)\n",
      "T-test between stereotypical and anti-stereotypical:  Ttest_indResult(statistic=0.006607702256992485, pvalue=0.9947282324102492)\n"
     ]
    }
   ],
   "source": [
    "print(\"T-test between stereotypical and neutral: \", ttest_ind(sent_score_gpt2_1,sent_score_gpt2))\n",
    "print(\"T-test between anti-stereotypical and neutral: \", ttest_ind(sent_score_gpt2_min_1,sent_score_gpt2))\n",
    "print(\"T-test between stereotypical and anti-stereotypical: \", ttest_ind(sent_score_gpt2_1,sent_score_gpt2_min_1))"
   ]
  },
  {
   "cell_type": "markdown",
   "metadata": {},
   "source": [
    "Same results: Significant difference between stereotypical and neutral and between anti-stereotypical and neutral\n",
    "No significant difference between stereotypical and anti-stereotypical"
   ]
  },
  {
   "cell_type": "code",
   "execution_count": 43,
   "metadata": {},
   "outputs": [
    {
     "name": "stdout",
     "output_type": "stream",
     "text": [
      "T-test between stereotypical and neutral:  Ttest_indResult(statistic=-1.4401816365963078, pvalue=0.14996622188064015)\n",
      "T-test between anti-stereotypical and neutral:  Ttest_indResult(statistic=-1.9880426506549709, pvalue=0.046930948620120844)\n",
      "T-test between stereotypical and anti-stereotypical:  Ttest_indResult(statistic=0.9030982823567341, pvalue=0.3665360624211682)\n"
     ]
    }
   ],
   "source": [
    "print(\"T-test between stereotypical and neutral: \", ttest_ind(sent_score_flan_1,sent_score_flan))\n",
    "print(\"T-test between anti-stereotypical and neutral: \", ttest_ind(sent_score_flan_min_1,sent_score_flan))\n",
    "print(\"T-test between stereotypical and anti-stereotypical: \", ttest_ind(sent_score_flan_1,sent_score_flan_min_1))"
   ]
  },
  {
   "cell_type": "markdown",
   "metadata": {},
   "source": [
    "Significant difference between anti-stereotypical and neutral, no significant difference between stereotypical and neutral or stereotypical and anti-stereotypical"
   ]
  },
  {
   "cell_type": "code",
   "execution_count": 47,
   "metadata": {},
   "outputs": [],
   "source": [
    "def get_pronoun_scores(scores):\n",
    "    pronouns = {'he': 'm','she': 'f','her': 'f','his': 'm','him': 'm' ,'they': 'n','them': 'n','their': 'n'}\n",
    "    results = []\n",
    "    \n",
    "    for sentence in scores:\n",
    "        pronoun_score = None\n",
    "        for word, score in sentence:\n",
    "            if word.lower() in pronouns.keys():\n",
    "                pronoun_score = score\n",
    "        results.append(pronoun_score)\n",
    "\n",
    "    return results"
   ]
  },
  {
   "cell_type": "code",
   "execution_count": 48,
   "metadata": {},
   "outputs": [
    {
     "name": "stdout",
     "output_type": "stream",
     "text": [
      "[28.17620849609375, 29.047008514404297, 23.757322311401367, 17.638835906982422, 18.467248916625977]\n"
     ]
    }
   ],
   "source": [
    "pronoun_score_bert_0 = get_pronoun_scores(word_score_bert)\n",
    "pronoun_score_bert_1 = get_pronoun_scores(word_score_bert_1)\n",
    "pronoun_score_bert_min1 = get_pronoun_scores(word_score_bert_min_1)\n",
    "print(pronoun_score_bert_min1[:5])"
   ]
  },
  {
   "cell_type": "code",
   "execution_count": 49,
   "metadata": {},
   "outputs": [
    {
     "name": "stdout",
     "output_type": "stream",
     "text": [
      "[2.7341883182525635, 2.0633955001831055, 2.9529173374176025, 1.5403811931610107, 1.39496910572052]\n"
     ]
    }
   ],
   "source": [
    "pronoun_score_gpt2_0 = get_pronoun_scores(word_score_gpt2)\n",
    "pronoun_score_gpt2_1 = get_pronoun_scores(word_score_gpt2_1)\n",
    "pronoun_score_gpt2_min1 = get_pronoun_scores(word_score_gpt2_min_1)\n",
    "print(pronoun_score_gpt2_min1[:5])"
   ]
  },
  {
   "cell_type": "code",
   "execution_count": 54,
   "metadata": {},
   "outputs": [
    {
     "name": "stdout",
     "output_type": "stream",
     "text": [
      "[10.436836242675781, 12.025269508361816, 6.984188079833984, 16.674175262451172, 13.778921127319336]\n"
     ]
    }
   ],
   "source": [
    "pronoun_score_flan_0 = get_pronoun_scores(word_score_flan)\n",
    "pronoun_score_flan_1 = get_pronoun_scores(word_score_flan_1)\n",
    "pronoun_score_flan_min1 = get_pronoun_scores(word_score_flan_min_1)\n",
    "print(pronoun_score_flan_min1[:5])"
   ]
  },
  {
   "cell_type": "code",
   "execution_count": 55,
   "metadata": {},
   "outputs": [
    {
     "name": "stdout",
     "output_type": "stream",
     "text": [
      "       Score Category Model\n",
      "0  19.492155  Neutral  BERT\n",
      "1  18.735067  Neutral  BERT\n",
      "2  21.978638  Neutral  BERT\n",
      "3  23.505550  Neutral  BERT\n",
      "4  29.588501  Neutral  BERT\n"
     ]
    }
   ],
   "source": [
    "scores_zero = [float(score) for score in pronoun_score_bert_0] + [float(score) for score in pronoun_score_gpt2_0] + [float(score) for score in pronoun_score_flan_0]\n",
    "scores_one = [float(score) for score in pronoun_score_bert_1] + [float(score) for score in pronoun_score_gpt2_1] + [float(score) for score in pronoun_score_flan_1]\n",
    "scores_minus_one = [float(score) for score in pronoun_score_bert_min1] + [float(score) for score in pronoun_score_gpt2_min1] + [float(score) for score in pronoun_score_flan_min1]\n",
    "data = {\n",
    "    'Score': scores_zero + scores_one + scores_minus_one,\n",
    "    'Category': ['Neutral'] * len(scores_zero) + ['Pro-stereotype'] * len(scores_one) + ['Anti-stereotype'] * len(scores_minus_one),\n",
    "    'Model': ['BERT'] * len(pronoun_score_bert_0) + ['GPT2'] * len(pronoun_score_gpt2_0) + ['Flan-T5'] * len(pronoun_score_flan_0) + ['BERT'] * len(pronoun_score_bert_1) + ['GPT2'] * len(pronoun_score_gpt2_1) + ['Flan-T5'] * len(pronoun_score_flan_1) + ['BERT'] * len(pronoun_score_bert_min1) + ['GPT2'] * len(pronoun_score_gpt2_min1) + ['Flan-T5'] * len(pronoun_score_flan_min1) \n",
    "}\n",
    "\n",
    "df = pd.DataFrame(data)\n",
    "print(df.head())"
   ]
  },
  {
   "cell_type": "code",
   "execution_count": 56,
   "metadata": {},
   "outputs": [
    {
     "data": {
      "text/plain": [
       "<Figure size 1000x600 with 0 Axes>"
      ]
     },
     "metadata": {},
     "output_type": "display_data"
    },
    {
     "data": {
      "image/png": "[encoded data removed]",
      "text/plain": [
       "<Figure size 657.5x500 with 1 Axes>"
      ]
     },
     "metadata": {},
     "output_type": "display_data"
    }
   ],
   "source": [
    "#compare sentences surpriral scores across 3 subdatasets(stereotype=0/1/-1)\n",
    "plt.figure(figsize=(10, 6))\n",
    "sns.set(style=\"whitegrid\")\n",
    "ax = sns.catplot(x='Model', y='Score', hue='Category', kind='bar', data=df)\n",
    "#ax.set_title('Comparison of Sentence Scores by Stereotype Category')\n",
    "plt.show()\n"
   ]
  },
  {
   "cell_type": "code",
   "execution_count": 57,
   "metadata": {},
   "outputs": [
    {
     "name": "stdout",
     "output_type": "stream",
     "text": [
      "T-test between stereotypical and neutral:  Ttest_indResult(statistic=3.528159220847702, pvalue=0.00042752071502604746)\n",
      "T-test between anti-stereotypical and neutral:  Ttest_indResult(statistic=2.975088244201857, pvalue=0.0029609928101865936)\n",
      "T-test between stereotypical and anti-stereotypical:  Ttest_indResult(statistic=1.0352277917280224, pvalue=0.30063426737813903)\n"
     ]
    }
   ],
   "source": [
    "print(\"T-test between stereotypical and neutral: \", ttest_ind(pronoun_score_bert_1,pronoun_score_bert_0))\n",
    "print(\"T-test between anti-stereotypical and neutral: \", ttest_ind(pronoun_score_bert_min1,pronoun_score_bert_0))\n",
    "print(\"T-test between stereotypical and anti-stereotypical: \", ttest_ind(pronoun_score_bert_1,pronoun_score_bert_min1))"
   ]
  },
  {
   "cell_type": "markdown",
   "metadata": {},
   "source": [
    "No significant difference between stereotypical and anti-stereotypical"
   ]
  },
  {
   "cell_type": "code",
   "execution_count": 58,
   "metadata": {},
   "outputs": [
    {
     "name": "stdout",
     "output_type": "stream",
     "text": [
      "T-test between stereotypical and neutral:  Ttest_indResult(statistic=-10.252164756822163, pvalue=4.2752592043260526e-24)\n",
      "T-test between anti-stereotypical and neutral:  Ttest_indResult(statistic=-6.684592034387621, pvalue=2.9269158883327886e-11)\n",
      "T-test between stereotypical and anti-stereotypical:  Ttest_indResult(statistic=-5.977225500843724, pvalue=2.498017089478797e-09)\n"
     ]
    }
   ],
   "source": [
    "print(\"T-test between stereotypical and neutral: \", ttest_ind(pronoun_score_gpt2_1,pronoun_score_gpt2_0))\n",
    "print(\"T-test between anti-stereotypical and neutral: \", ttest_ind(pronoun_score_gpt2_min1,pronoun_score_gpt2_0))\n",
    "print(\"T-test between stereotypical and anti-stereotypical: \", ttest_ind(pronoun_score_gpt2_1,pronoun_score_gpt2_min1))"
   ]
  },
  {
   "cell_type": "markdown",
   "metadata": {},
   "source": [
    "Significant difference between stereotypical and anti-stereotypical and between stereotypical and neutral"
   ]
  },
  {
   "cell_type": "code",
   "execution_count": 59,
   "metadata": {},
   "outputs": [
    {
     "name": "stdout",
     "output_type": "stream",
     "text": [
      "T-test between stereotypical and neutral:  Ttest_indResult(statistic=1.9424600467047035, pvalue=0.05221598170189709)\n",
      "T-test between anti-stereotypical and neutral:  Ttest_indResult(statistic=1.2670226154451112, pvalue=0.20528155680238955)\n",
      "T-test between stereotypical and anti-stereotypical:  Ttest_indResult(statistic=1.0641217356857726, pvalue=0.28734717377248586)\n"
     ]
    }
   ],
   "source": [
    "print(\"T-test between stereotypical and neutral: \", ttest_ind(pronoun_score_flan_1,pronoun_score_flan_0))\n",
    "print(\"T-test between anti-stereotypical and neutral: \", ttest_ind(pronoun_score_flan_min1,pronoun_score_flan_0))\n",
    "print(\"T-test between stereotypical and anti-stereotypical: \", ttest_ind(pronoun_score_flan_1,pronoun_score_flan_min1))"
   ]
  },
  {
   "cell_type": "markdown",
   "metadata": {},
   "source": [
    "No significant difference between any pairs"
   ]
  }
 ],
 "metadata": {
  "kernelspec": {
   "display_name": "Python 3 (ipykernel)",
   "language": "python",
   "name": "python3"
  },
  "language_info": {
   "codemirror_mode": {
    "name": "ipython",
    "version": 3
   },
   "file_extension": ".py",
   "mimetype": "text/x-python",
   "name": "python",
   "nbconvert_exporter": "python",
   "pygments_lexer": "ipython3",
   "version": "3.11.2"
  }
 },
 "nbformat": 4,
 "nbformat_minor": 2
}
