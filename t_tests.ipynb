{
 "cells": [
  {
   "cell_type": "code",
   "execution_count": 2,
   "metadata": {},
   "outputs": [],
   "source": [
    "import pandas as pd\n",
    "from scipy.stats import ttest_rel\n",
    "from scipy.stats import pearsonr\n",
    "import seaborn as sns\n",
    "import matplotlib.pyplot as plt"
   ]
  },
  {
   "cell_type": "code",
   "execution_count": 3,
   "metadata": {},
   "outputs": [],
   "source": [
    "def calculate_consistency(modelname):\n",
    "    deltas = pd.read_csv(f\"deltas_{modelname}.csv\", quoting=3, encoding='utf-8')\n",
    "    deltas.rename(columns={\"Unnamed: 0\": \"id\"}, inplace=True)\n",
    "    \n",
    "    # all differences are anti-sterotyped - pro-stereotyped, as we expect anti-stereotyped to have higher surprisal/ reading time\n",
    "    # a positive diff means anti-s. > pro-s., negative means anti-s. < pro-s.\n",
    "    deltas[\"surp_consistency\"] = deltas[\"surprisal_diff\"].apply(lambda x: 1 if x >= 0 else 0)\n",
    "    deltas[\"rt_consistency\"] = deltas[\"rt_diff\"].apply(lambda x: 1 if x >= 0 else 0)\n",
    "    return deltas"
   ]
  },
  {
   "cell_type": "code",
   "execution_count": 4,
   "metadata": {},
   "outputs": [],
   "source": [
    "deltas_bert = calculate_consistency(\"bert\")\n",
    "deltas_gpt2 = calculate_consistency(\"gpt2\")\n",
    "deltas_flan = calculate_consistency(\"flan\")"
   ]
  },
  {
   "cell_type": "code",
   "execution_count": 5,
   "metadata": {},
   "outputs": [],
   "source": [
    "deltas_gpt2[\"rt_prediction\"] = deltas_gpt2[\"surprisal_diff\"].apply(lambda x: 12 * x)"
   ]
  },
  {
   "cell_type": "markdown",
   "metadata": {},
   "source": [
    "## Significance testing: consistency scores"
   ]
  },
  {
   "cell_type": "code",
   "execution_count": 6,
   "metadata": {},
   "outputs": [
    {
     "name": "stdout",
     "output_type": "stream",
     "text": [
      "TtestResult(statistic=0.22924949725561386, pvalue=0.8187467865044472, df=653)\n",
      "Pearson correlation coefficient: 0.07034165431535723\n",
      "p-value: 0.0722304487779235\n"
     ]
    }
   ],
   "source": [
    "print(ttest_rel(deltas_bert[\"surp_consistency\"], deltas_bert[\"rt_consistency\"]))\n",
    "# BERT: consistency not significantly different from human consistency mean\n",
    "# weak positive correlation is not significant\n",
    "\n",
    "correlation, p_value = pearsonr(deltas_bert[\"surp_consistency\"], deltas_bert[\"rt_consistency\"])\n",
    "print(f\"Pearson correlation coefficient: {correlation}\")\n",
    "print(f\"p-value: {p_value}\")"
   ]
  },
  {
   "cell_type": "code",
   "execution_count": 7,
   "metadata": {},
   "outputs": [
    {
     "name": "stdout",
     "output_type": "stream",
     "text": [
      "TtestResult(statistic=3.493652455044079, pvalue=0.000508646502190746, df=653)\n",
      "Pearson correlation coefficient: 0.08399484847393594\n",
      "p-value: 0.031735759996164355\n"
     ]
    }
   ],
   "source": [
    "print(ttest_rel(deltas_gpt2[\"surp_consistency\"], deltas_gpt2[\"rt_consistency\"]))\n",
    "# GPT2: consistency significantly different from human consistency\n",
    "# weak positive correlation is significant\n",
    "\n",
    "correlation, p_value = pearsonr(deltas_gpt2[\"surp_consistency\"], deltas_gpt2[\"rt_consistency\"])\n",
    "print(f\"Pearson correlation coefficient: {correlation}\")\n",
    "print(f\"p-value: {p_value}\")"
   ]
  },
  {
   "cell_type": "code",
   "execution_count": 8,
   "metadata": {},
   "outputs": [
    {
     "name": "stdout",
     "output_type": "stream",
     "text": [
      "TtestResult(statistic=0.05666156812622382, pvalue=0.954832121726026, df=653)\n",
      "Pearson correlation coefficient: 0.04892989240527283\n",
      "p-value: 0.21142388162838593\n"
     ]
    }
   ],
   "source": [
    "print(ttest_rel(deltas_flan[\"surp_consistency\"], deltas_flan[\"rt_consistency\"]))\n",
    "# FLAN: consistency not significantly different from human consistency\n",
    "# weak positive correlation, but not significant\n",
    "\n",
    "correlation, p_value = pearsonr(deltas_flan[\"surp_consistency\"], deltas_flan[\"rt_consistency\"])\n",
    "print(f\"Pearson correlation coefficient: {correlation}\")\n",
    "print(f\"p-value: {p_value}\")"
   ]
  },
  {
   "cell_type": "code",
   "execution_count": 9,
   "metadata": {},
   "outputs": [
    {
     "data": {
      "text/plain": [
       "<Figure size 500x1200 with 0 Axes>"
      ]
     },
     "metadata": {},
     "output_type": "display_data"
    },
    {
     "data": {
      "image/png": "[encoded data removed]",
      "text/plain": [
       "<Figure size 500x500 with 1 Axes>"
      ]
     },
     "metadata": {},
     "output_type": "display_data"
    }
   ],
   "source": [
    "consistency_data = {\n",
    "    'Consistency Score': deltas_bert[\"surp_consistency\"].tolist() + deltas_gpt2[\"surp_consistency\"].tolist() + deltas_flan[\"surp_consistency\"].tolist() + deltas_bert[\"rt_consistency\"].tolist(),\n",
    "    'Model': ['BERT'] * len(deltas_bert) + ['GPT2'] * len(deltas_gpt2) + [\"Flan-T5\"] * len(deltas_flan) + [\"Human\"] * len(deltas_bert)\n",
    "}\n",
    "\n",
    "consistency_df = pd.DataFrame(consistency_data)\n",
    "\n",
    "plt.figure(figsize=(5, 12))\n",
    "sns.set(style=\"whitegrid\")\n",
    "ax = sns.catplot(x='Model', y='Consistency Score', kind='bar', data=consistency_df)\n",
    "\n",
    "# Set y-axis limit\n",
    "ax.set(ylim=(0, 1))\n",
    "# Add vertical line at y = 0.5\n",
    "for axes in ax.axes.flat:\n",
    "    axes.axhline(y=0.5, color='blue', linestyle='--')\n",
    "\n",
    "plt.show()"
   ]
  },
  {
   "cell_type": "markdown",
   "metadata": {},
   "source": [
    "## Surprisal vs Reading time differences"
   ]
  },
  {
   "cell_type": "code",
   "execution_count": 10,
   "metadata": {},
   "outputs": [
    {
     "name": "stdout",
     "output_type": "stream",
     "text": [
      "Pearson correlation coefficient: 0.017779526047817358\n",
      "p-value: 0.6499372112665155\n"
     ]
    }
   ],
   "source": [
    "# weak positive correlation is not significant\n",
    "\n",
    "correlation, p_value = pearsonr(deltas_bert[\"surprisal_diff\"], deltas_bert[\"rt_diff\"])\n",
    "print(f\"Pearson correlation coefficient: {correlation}\")\n",
    "print(f\"p-value: {p_value}\")"
   ]
  },
  {
   "cell_type": "code",
   "execution_count": 11,
   "metadata": {},
   "outputs": [
    {
     "name": "stdout",
     "output_type": "stream",
     "text": [
      "Pearson correlation coefficient: 0.06520154674764633\n",
      "p-value: 0.09571140734053378\n"
     ]
    }
   ],
   "source": [
    "# weak positive correlation is not significant\n",
    "\n",
    "correlation, p_value = pearsonr(deltas_gpt2[\"surprisal_diff\"], deltas_gpt2[\"rt_diff\"])\n",
    "print(f\"Pearson correlation coefficient: {correlation}\")\n",
    "print(f\"p-value: {p_value}\")"
   ]
  },
  {
   "cell_type": "code",
   "execution_count": 12,
   "metadata": {},
   "outputs": [
    {
     "name": "stdout",
     "output_type": "stream",
     "text": [
      "Pearson correlation coefficient: 0.02052103626070983\n",
      "p-value: 0.6003867758179278\n"
     ]
    }
   ],
   "source": [
    "# weak positive correlation is not significant\n",
    "\n",
    "correlation, p_value = pearsonr(deltas_flan[\"surprisal_diff\"], deltas_flan[\"rt_diff\"])\n",
    "print(f\"Pearson correlation coefficient: {correlation}\")\n",
    "print(f\"p-value: {p_value}\")"
   ]
  },
  {
   "cell_type": "code",
   "execution_count": 15,
   "metadata": {},
   "outputs": [
    {
     "data": {
      "image/png": "[encoded data removed]",
      "text/plain": [
       "<Figure size 600x800 with 1 Axes>"
      ]
     },
     "metadata": {},
     "output_type": "display_data"
    }
   ],
   "source": [
    "deltas_data = {\n",
    "    'Surprisal difference': deltas_bert[\"surprisal_diff\"].tolist() + deltas_gpt2[\"surprisal_diff\"].tolist() + deltas_flan[\"surprisal_diff\"].tolist(),\n",
    "    'Model': ['BERT'] * len(deltas_bert) + ['GPT2'] * len(deltas_gpt2) + [\"Flan-T5\"] * len(deltas_flan)\n",
    "}\n",
    "\n",
    "deltas_df = pd.DataFrame(deltas_data)\n",
    "\n",
    "plt.figure(figsize=(6, 8))\n",
    "sns.set(style=\"whitegrid\")\n",
    "ax = sns.boxplot(x='Model', y='Surprisal difference', data=deltas_df)\n",
    "ax.set_title('Comparison of Surprisal Difference by Model')\n",
    "\n",
    "# Set y-axis limit\n",
    "ax.set(ylim=(-12, 12))\n",
    "plt.show()\n"
   ]
  },
  {
   "cell_type": "code",
   "execution_count": null,
   "metadata": {},
   "outputs": [],
   "source": []
  }
 ],
 "metadata": {
  "kernelspec": {
   "display_name": "Python 3 (ipykernel)",
   "language": "python",
   "name": "python3"
  },
  "language_info": {
   "codemirror_mode": {
    "name": "ipython",
    "version": 3
   },
   "file_extension": ".py",
   "mimetype": "text/x-python",
   "name": "python",
   "nbconvert_exporter": "python",
   "pygments_lexer": "ipython3",
   "version": "3.11.2"
  }
 },
 "nbformat": 4,
 "nbformat_minor": 2
}
